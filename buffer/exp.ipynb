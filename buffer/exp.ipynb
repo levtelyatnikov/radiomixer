{
 "cells": [
  {
   "cell_type": "code",
   "execution_count": 64,
   "metadata": {},
   "outputs": [],
   "source": [
    "class ClassOne():\n",
    "    def __init__(self, one, two=2):\n",
    "        self.one = one\n",
    "        self.two = two\n",
    "\n",
    "    def sum(self,):\n",
    "        return self.one +self.two\n",
    "class Classtwo(ClassOne):\n",
    "\n",
    "    def __init__(self, tre, **args):\n",
    "        super().__init__(**args)\n",
    "        self.tre = tre\n",
    "        \n"
   ]
  },
  {
   "cell_type": "code",
   "execution_count": 60,
   "metadata": {},
   "outputs": [
    {
     "data": {
      "text/plain": [
       "3"
      ]
     },
     "execution_count": 60,
     "metadata": {},
     "output_type": "execute_result"
    }
   ],
   "source": [
    "a = ClassOne(one=1, two=2)\n",
    "b = Classtwo(one=1, two=2, tre=3)\n",
    "\n",
    "b.tre"
   ]
  },
  {
   "cell_type": "code",
   "execution_count": 67,
   "metadata": {},
   "outputs": [],
   "source": [
    "import torch\n",
    "\n",
    "class WrappedMHA(torch.nn.MultiheadAttention):\n",
    "    def __init__(self, cfg, **kwargs):\n",
    "        super().__init__(**kwargs)\n",
    "        \n",
    "\n",
    "        \n",
    "        self.slot_size = cfg\n",
    "        self.gru = torch.nn.GRUCell(self.slot_size, self.slot_size)"
   ]
  },
  {
   "cell_type": "code",
   "execution_count": 70,
   "metadata": {},
   "outputs": [
    {
     "data": {
      "text/plain": [
       "WrappedMHA(\n",
       "  (out_proj): NonDynamicallyQuantizableLinear(in_features=15, out_features=15, bias=True)\n",
       "  (gru): GRUCell(12, 12)\n",
       ")"
      ]
     },
     "execution_count": 70,
     "metadata": {},
     "output_type": "execute_result"
    }
   ],
   "source": [
    "WrappedMHA(embed_dim = 15,  cfg=12, num_heads=5, batch_first=True)"
   ]
  },
  {
   "cell_type": "code",
   "execution_count": 3,
   "metadata": {},
   "outputs": [],
   "source": [
    "from datasets import load_dataset, load_metric\n"
   ]
  },
  {
   "cell_type": "code",
   "execution_count": null,
   "metadata": {},
   "outputs": [],
   "source": []
  }
 ],
 "metadata": {
  "interpreter": {
   "hash": "12732fb832b5c15d5cf020596302ca7836ca75d15ce1d315fcb8a916c1c8feec"
  },
  "kernelspec": {
   "display_name": "Python 3.9.7 64-bit ('reprodl': conda)",
   "language": "python",
   "name": "python3"
  },
  "language_info": {
   "codemirror_mode": {
    "name": "ipython",
    "version": 3
   },
   "file_extension": ".py",
   "mimetype": "text/x-python",
   "name": "python",
   "nbconvert_exporter": "python",
   "pygments_lexer": "ipython3",
   "version": "3.9.7"
  },
  "orig_nbformat": 4
 },
 "nbformat": 4,
 "nbformat_minor": 2
}
