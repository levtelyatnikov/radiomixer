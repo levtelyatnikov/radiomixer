{
 "cells": [
  {
   "cell_type": "code",
   "execution_count": 35,
   "metadata": {},
   "outputs": [],
   "source": [
    "from typing import Tuple\n",
    "\n",
    "import torch\n",
    "from torch import nn\n",
    "from torch.nn import functional as F\n",
    "import matplotlib.pyplot as plt\n",
    "from typing import Tuple\n",
    "class SoftPositionEmbed(nn.Module):\n",
    "    def __init__(self, num_channels: int, hidden_size: int, resolution: Tuple[int, int]):\n",
    "        super().__init__()\n",
    "        self.dense = nn.Linear(in_features=num_channels + 1, out_features=hidden_size)\n",
    "        self.register_buffer(\"grid\", build_grid(resolution))\n",
    "\n",
    "    def forward(self, inputs):\n",
    "        emb_proj = self.dense(self.grid).permute(0, 3, 1, 2)\n",
    "        assert_shape(inputs.shape[1:], emb_proj.shape[1:])\n",
    "        return inputs + emb_proj\n",
    "\n",
    "\n",
    "\n",
    "def assert_shape(actual, expected: Tuple[int, ...], message: str = \"\"):\n",
    "    assert actual == expected, f\"Expected shape: {expected} but passed shape: {actual}. {message}\"\n",
    "\n",
    "\n",
    "def build_grid(resolution):\n",
    "    ranges = [torch.linspace(0.0, 1.0, steps=res) for res in resolution]\n",
    "    grid = torch.meshgrid(*ranges)\n",
    "    grid = torch.stack(grid, dim=-1)\n",
    "    grid = torch.reshape(grid, [resolution[0], resolution[1], -1])\n",
    "    grid = grid.unsqueeze(0)\n",
    "    return torch.cat([grid, 1.0 - grid], dim=-1)#grid#"
   ]
  },
  {
   "cell_type": "code",
   "execution_count": 36,
   "metadata": {},
   "outputs": [
    {
     "data": {
      "image/png": "[encoded data removed]",
      "text/plain": [
       "<Figure size 432x288 with 1 Axes>"
      ]
     },
     "metadata": {
      "needs_background": "light"
     },
     "output_type": "display_data"
    },
    {
     "data": {
      "image/png": "[encoded data removed]",
      "text/plain": [
       "<Figure size 432x288 with 1 Axes>"
      ]
     },
     "metadata": {
      "needs_background": "light"
     },
     "output_type": "display_data"
    },
    {
     "data": {
      "image/png": "[encoded data removed]",
      "text/plain": [
       "<Figure size 432x288 with 1 Axes>"
      ]
     },
     "metadata": {
      "needs_background": "light"
     },
     "output_type": "display_data"
    },
    {
     "data": {
      "image/png": "[encoded data removed]",
      "text/plain": [
       "<Figure size 432x288 with 1 Axes>"
      ]
     },
     "metadata": {
      "needs_background": "light"
     },
     "output_type": "display_data"
    }
   ],
   "source": [
    "num_channels = 3\n",
    "hidden_size = 64\n",
    "resolution = (128,128)\n",
    "grid = build_grid(resolution)\n",
    "grid.shape\n",
    "\n",
    "\n",
    "\n",
    "for i in range(4):\n",
    "    plt.imshow(grid[0,:,:,i])\n",
    "    plt.show()"
   ]
  },
  {
   "cell_type": "code",
   "execution_count": 37,
   "metadata": {},
   "outputs": [],
   "source": [
    "soft_pos = SoftPositionEmbed(num_channels = num_channels,hidden_size = hidden_size, resolution=resolution )"
   ]
  },
  {
   "cell_type": "code",
   "execution_count": 38,
   "metadata": {},
   "outputs": [],
   "source": [
    "a = soft_pos.dense(grid).detach().numpy()"
   ]
  },
  {
   "cell_type": "code",
   "execution_count": 39,
   "metadata": {},
   "outputs": [
    {
     "data": {
      "text/plain": [
       "array([[[[-0.9095657 ,  0.39260823,  0.9221774 , ..., -0.7463458 ,\n",
       "           0.9081492 , -0.17263228],\n",
       "         [-0.9040062 ,  0.39184853,  0.91454095, ..., -0.7419715 ,\n",
       "           0.9092847 , -0.17403404],\n",
       "         [-0.89844674,  0.39108884,  0.90690446, ..., -0.7375971 ,\n",
       "           0.91042024, -0.17543584],\n",
       "         ...,\n",
       "         [-0.21463038,  0.297647  , -0.03237957, ..., -0.19955176,\n",
       "           1.0500891 , -0.34785444],\n",
       "         [-0.20907089,  0.2968873 , -0.04001603, ..., -0.1951774 ,\n",
       "           1.0512247 , -0.34925622],\n",
       "         [-0.20351142,  0.29612762, -0.04765248, ..., -0.19080305,\n",
       "           1.0523602 , -0.350658  ]],\n",
       "\n",
       "        [[-0.9104969 ,  0.3964034 ,  0.9230703 , ..., -0.7439844 ,\n",
       "           0.9032906 , -0.17425254],\n",
       "         [-0.9049374 ,  0.39564374,  0.9154339 , ..., -0.73961   ,\n",
       "           0.90442616, -0.17565432],\n",
       "         [-0.89937794,  0.39488405,  0.9077974 , ..., -0.7352357 ,\n",
       "           0.9055617 , -0.1770561 ],\n",
       "         ...,\n",
       "         [-0.2155616 ,  0.30144218, -0.03148663, ..., -0.19719031,\n",
       "           1.0452306 , -0.34947473],\n",
       "         [-0.21000211,  0.3006825 , -0.03912309, ..., -0.19281596,\n",
       "           1.0463661 , -0.35087648],\n",
       "         [-0.20444264,  0.29992282, -0.04675955, ..., -0.1884416 ,\n",
       "           1.0475016 , -0.35227826]],\n",
       "\n",
       "        [[-0.9114281 ,  0.4001986 ,  0.9239633 , ..., -0.7416229 ,\n",
       "           0.8984321 , -0.1758728 ],\n",
       "         [-0.90586865,  0.39943892,  0.9163268 , ..., -0.7372486 ,\n",
       "           0.8995676 , -0.17727458],\n",
       "         [-0.90030915,  0.39867923,  0.9086904 , ..., -0.7328742 ,\n",
       "           0.90070313, -0.17867637],\n",
       "         ...,\n",
       "         [-0.21649282,  0.30523735, -0.03059366, ..., -0.19482887,\n",
       "           1.040372  , -0.351095  ],\n",
       "         [-0.21093333,  0.3044777 , -0.03823012, ..., -0.19045451,\n",
       "           1.0415075 , -0.35249677],\n",
       "         [-0.20537385,  0.303718  , -0.04586658, ..., -0.18608016,\n",
       "           1.0426431 , -0.35389853]],\n",
       "\n",
       "        ...,\n",
       "\n",
       "        [[-1.0259672 ,  0.867007  ,  1.0337968 , ..., -0.45116514,\n",
       "           0.30083096, -0.37516546],\n",
       "         [-1.0204077 ,  0.8662473 ,  1.0261605 , ..., -0.44679078,\n",
       "           0.3019665 , -0.37656724],\n",
       "         [-1.0148482 ,  0.8654876 ,  1.0185239 , ..., -0.44241643,\n",
       "           0.30310202, -0.377969  ],\n",
       "         ...,\n",
       "         [-0.33103192,  0.77204573,  0.07923993, ...,  0.09562893,\n",
       "           0.4427709 , -0.5503877 ],\n",
       "         [-0.32547244,  0.7712861 ,  0.07160348, ...,  0.10000327,\n",
       "           0.44390643, -0.55178946],\n",
       "         [-0.31991297,  0.7705264 ,  0.06396702, ...,  0.10437763,\n",
       "           0.44504195, -0.5531912 ]],\n",
       "\n",
       "        [[-1.0268984 ,  0.87080216,  1.0346899 , ..., -0.4488037 ,\n",
       "           0.2959724 , -0.37678573],\n",
       "         [-1.0213389 ,  0.87004244,  1.0270534 , ..., -0.44442934,\n",
       "           0.29710793, -0.3781875 ],\n",
       "         [-1.0157795 ,  0.86928284,  1.0194169 , ..., -0.44005498,\n",
       "           0.29824346, -0.37958926],\n",
       "         ...,\n",
       "         [-0.33196312,  0.77584094,  0.08013289, ...,  0.09799036,\n",
       "           0.43791234, -0.55200785],\n",
       "         [-0.32640365,  0.7750813 ,  0.07249643, ...,  0.10236472,\n",
       "           0.43904787, -0.55340964],\n",
       "         [-0.32084414,  0.77432156,  0.06485997, ...,  0.10673907,\n",
       "           0.4401834 , -0.5548114 ]],\n",
       "\n",
       "        [[-1.0278296 ,  0.8745974 ,  1.0355828 , ..., -0.44644225,\n",
       "           0.29111385, -0.378406  ],\n",
       "         [-1.0222702 ,  0.8738377 ,  1.0279464 , ..., -0.4420679 ,\n",
       "           0.29224938, -0.37980777],\n",
       "         [-1.0167108 ,  0.873078  ,  1.0203099 , ..., -0.43769354,\n",
       "           0.2933849 , -0.38120952],\n",
       "         ...,\n",
       "         [-0.33289433,  0.77963614,  0.08102584, ...,  0.10035181,\n",
       "           0.43305382, -0.55362815],\n",
       "         [-0.32733485,  0.7788764 ,  0.07338938, ...,  0.10472617,\n",
       "           0.43418932, -0.5550299 ],\n",
       "         [-0.32177538,  0.77811676,  0.06575292, ...,  0.10910052,\n",
       "           0.43532485, -0.5564317 ]]]], dtype=float32)"
      ]
     },
     "execution_count": 39,
     "metadata": {},
     "output_type": "execute_result"
    }
   ],
   "source": [
    "a"
   ]
  },
  {
   "cell_type": "code",
   "execution_count": 28,
   "metadata": {},
   "outputs": [
    {
     "data": {
      "text/plain": [
       "torch.Size([1, 128, 128, 64])"
      ]
     },
     "execution_count": 28,
     "metadata": {},
     "output_type": "execute_result"
    }
   ],
   "source": [
    "a"
   ]
  },
  {
   "cell_type": "code",
   "execution_count": null,
   "metadata": {},
   "outputs": [],
   "source": []
  }
 ],
 "metadata": {
  "interpreter": {
   "hash": "12732fb832b5c15d5cf020596302ca7836ca75d15ce1d315fcb8a916c1c8feec"
  },
  "kernelspec": {
   "display_name": "Python 3.9.7 64-bit ('reprodl': conda)",
   "language": "python",
   "name": "python3"
  },
  "language_info": {
   "codemirror_mode": {
    "name": "ipython",
    "version": 3
   },
   "file_extension": ".py",
   "mimetype": "text/x-python",
   "name": "python",
   "nbconvert_exporter": "python",
   "pygments_lexer": "ipython3",
   "version": "3.9.7"
  },
  "orig_nbformat": 4
 },
 "nbformat": 4,
 "nbformat_minor": 2
}
