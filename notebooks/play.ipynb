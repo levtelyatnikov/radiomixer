{
 "cells": [
  {
   "cell_type": "code",
   "execution_count": 10,
   "metadata": {},
   "outputs": [
    {
     "data": {
      "text/plain": [
       "<__main__.MelSpectrogram at 0x7f04c99e0198>"
      ]
     },
     "execution_count": 10,
     "metadata": {},
     "output_type": "execute_result"
    }
   ],
   "source": [
    "\"\"\"\n",
    "This module provides an abstract interface for all transforms (Transform)\n",
    "and an enumerations with all available transforms (TransformType).\n",
    "TransformType should be updated as new transforms are added.\n",
    "\"\"\"\n",
    "\n",
    "import logging\n",
    "from abc import ABC, abstractmethod\n",
    "from enum import Enum\n",
    "\n",
    "\n",
    "\n",
    "\n",
    "\n",
    "\n",
    "\n",
    "class TransformType(Enum):\n",
    "    \"\"\"Enumeration class with all available transforms.\"\"\"\n",
    "\n",
    "    LOG = \"log\"\n",
    "    MAGNITUDESPECTROGRAM = \"magnitudespectrogram\"\n",
    "    MELSPECTROGRAM = \"melspectrogram\"\n",
    "    MINMAXSCALER = \"minmaxscaler\"\n",
    "    MFCC = \"mfcc\"\n",
    "    POWERSPECTROGRAM = \"powerspectrogram\"\n",
    "    STFT = \"stft\"\n",
    "    ROWSTANDARDISER = \"rowstandardiser\"\n",
    "    STANDARDISER = \"standardiser\"\n",
    "\n",
    "\n",
    "class Transform(ABC):\n",
    "    \"\"\"Transform is a common interface for all transforms objects. Such\n",
    "    objects manipulate a signal (e.g., applying log scaling, extracting\n",
    "    MFCCs).\n",
    "    Attrs:\n",
    "        - name: The name of the transforms\n",
    "    \"\"\"\n",
    "\n",
    "    def __init__(self, name: TransformType):\n",
    "        self.name = name\n",
    "        \n",
    "    @abstractmethod\n",
    "    def process(self, signal) :\n",
    "        \"\"\"This method is responsible to apply a transforms to the incoming\n",
    "        signal.\n",
    "        :param signal: Signal object to be manipulated\n",
    "        :return: New signal object with transformed values\n",
    "        \"\"\"\n",
    "\n",
    "    def _prepend_transform_name(self, string):\n",
    "        return self.name.value + \"_\" + string\n",
    "\n",
    "\n",
    "\n",
    "\n",
    "import librosa\n",
    "\n",
    "\n",
    "\n",
    "\n",
    "\n",
    "\n",
    "class MelSpectrogram(Transform):\n",
    "    \"\"\"This class extracts a Mel spectrogram from a signal.\n",
    "    It's a concrete Transform. librosa facilities are used to extract Mel\n",
    "    spectrograms.\n",
    "    Attributes:\n",
    "        - num_mels: Number of mel bands\n",
    "        - min_freq: Lowest frequency in Hertz. Frequencies below this\n",
    "            threshold are filtered out\n",
    "        - max_freq: Highest frequency in Hertz. Frequencies above this\n",
    "            threshold are filtered out\n",
    "        - max_freq: Number of mel bands\n",
    "        - frame_length: Length of the windowed signal after padding with zeros\n",
    "        - hop_length: Number of audio samples between adjacent STFT columns\n",
    "        - win_length: Each frame of audio is windowed by window of length\n",
    "            win_length and then padded with zeros to match frame_length\n",
    "        - window: Windowing method employed for STFT. Default is 'hann'\n",
    "    \"\"\"\n",
    "\n",
    "    def __init__(self,\n",
    "                 num_mels: int = 64,\n",
    "                 min_freq: int = 0,\n",
    "                 max_freq: int = 8000,\n",
    "                 frame_length: int = 2048,\n",
    "                 hop_length: int = 1024,\n",
    "                 win_length: int = 2048,\n",
    "                 window: str = \"hann\"):\n",
    "\n",
    "        # input of Transform is  a name, hence we have to pass a name \n",
    "        super().__init__(TransformType.MELSPECTROGRAM) \n",
    "        self.num_mels = num_mels\n",
    "        self.min_freq = min_freq\n",
    "        self.max_freq = max_freq\n",
    "        self.frame_length = frame_length\n",
    "        self.hop_length = hop_length\n",
    "        self.win_length = win_length\n",
    "        self.window = window\n",
    "\n",
    "    def process(self, signal):\n",
    "        \"\"\"Extract Mel Spectrogram and modify signal.\n",
    "        :param signal: Signal object.\n",
    "        :return: Modified signal\n",
    "        \"\"\"\n",
    "        signal.name = self._prepend_transform_name(signal.name)\n",
    "        signal.data = librosa.feature.melspectrogram(\n",
    "                            signal.data,\n",
    "                            sr=signal.sample_rate,\n",
    "                            n_mels=self.num_mels,\n",
    "                            n_fft=self.frame_length,\n",
    "                            hop_length=self.hop_length,\n",
    "                            win_length=self.win_length,\n",
    "                            window=self.window)\n",
    "        \n",
    "        return signal\n",
    "\n",
    "d = {'mel_spec':MelSpectrogram}\n",
    "transform = d.get('mel_spec')\n",
    "transform()"
   ]
  },
  {
   "cell_type": "code",
   "execution_count": 17,
   "metadata": {},
   "outputs": [
    {
     "data": {
      "text/plain": [
       "'melspectrogram'"
      ]
     },
     "execution_count": 17,
     "metadata": {},
     "output_type": "execute_result"
    }
   ],
   "source": [
    "TransformType.MELSPECTROGRAM.value\n"
   ]
  },
  {
   "cell_type": "code",
   "execution_count": 9,
   "metadata": {},
   "outputs": [
    {
     "data": {
      "text/plain": [
       "<TransformType.MELSPECTROGRAM: 'melspectrogram'>"
      ]
     },
     "execution_count": 9,
     "metadata": {},
     "output_type": "execute_result"
    }
   ],
   "source": [
    "tr = MelSpectrogram()\n",
    "tr.name"
   ]
  },
  {
   "cell_type": "code",
   "execution_count": null,
   "metadata": {},
   "outputs": [],
   "source": []
  }
 ],
 "metadata": {
  "interpreter": {
   "hash": "ea409e4ec2a534730e92f0e1f785e26400ecbe993c3c44d661821bee781c0c86"
  },
  "kernelspec": {
   "display_name": "Python 3.6.15 64-bit ('lev_py36': conda)",
   "language": "python",
   "name": "python3"
  },
  "language_info": {
   "codemirror_mode": {
    "name": "ipython",
    "version": 3
   },
   "file_extension": ".py",
   "mimetype": "text/x-python",
   "name": "python",
   "nbconvert_exporter": "python",
   "pygments_lexer": "ipython3",
   "version": "3.6.15"
  },
  "orig_nbformat": 4
 },
 "nbformat": 4,
 "nbformat_minor": 2
}
