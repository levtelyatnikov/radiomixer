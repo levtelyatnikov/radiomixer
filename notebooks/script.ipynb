{
 "cells": [
  {
   "cell_type": "code",
   "execution_count": 1,
   "metadata": {},
   "outputs": [],
   "source": [
    "from utils.dataset import AudioDataset\n",
    "from utils.process import AudioTransform\n",
    "\n",
    "import torchaudio\n",
    "import torch\n"
   ]
  },
  {
   "cell_type": "code",
   "execution_count": 3,
   "metadata": {},
   "outputs": [],
   "source": [
    "dataset_paths = [   '/home/lev/datasets/musan/music',\n",
    "                    '/home/lev/datasets/musan/speech'\n",
    "                    ]\n",
    "dataset_names = ['music', 'speech']\n",
    "\n",
    "audio_dataset = AudioDataset(dataset_paths=dataset_paths,\n",
    "                                dataset_names=dataset_names,\n",
    "                                normalize=True)\n",
    "\n",
    "\n",
    "audio, dataset_type = audio_dataset.__getitem__(1)\n",
    "\n",
    "\n",
    "#sampler\n",
    "#transformation"
   ]
  },
  {
   "cell_type": "code",
   "execution_count": 6,
   "metadata": {},
   "outputs": [],
   "source": [
    "# print(audio.shape)\n",
    "# new_audio = torchaudio.functional.vad(audio, sample_rate=22050)\n",
    "# print(new_audio.shape)"
   ]
  },
  {
   "cell_type": "code",
   "execution_count": 10,
   "metadata": {},
   "outputs": [
    {
     "data": {
      "text/plain": [
       "{'max_fade_out': 0,\n",
       " 'max_fade_in': 10030,\n",
       " 'max_time_gap': 1,\n",
       " 'final_audio_clip': 0,\n",
       " 'min_segment_length': 2,\n",
       " 'n_transition': 4,\n",
       " 'sample_rate': 0,\n",
       " 'max_music_gain': 0,\n",
       " 'in_transition_type': 's-curve'}"
      ]
     },
     "execution_count": 10,
     "metadata": {},
     "output_type": "execute_result"
    }
   ],
   "source": [
    "import numpy as np\n",
    "import random\n",
    "d = {'max_fade_out':1,\n",
    "    'max_fade_in': 22024,\n",
    "    'max_time_gap':2,\n",
    "    'final_audio_clip':3,\n",
    "    'min_segment_length':4, \n",
    "    'n_transition': 5,\n",
    "    'sample_rate':2 ,\n",
    "    'max_music_gain':1,\n",
    "    'in_transition_type': ['linear', 'exp-convex', 'exp-concave', 's-curve']}\n",
    "\n",
    "{key: np.random.choice(valye) for key,valye in d.items()}"
   ]
  },
  {
   "cell_type": "code",
   "execution_count": 16,
   "metadata": {},
   "outputs": [
    {
     "data": {
      "text/plain": [
       "1"
      ]
     },
     "execution_count": 16,
     "metadata": {},
     "output_type": "execute_result"
    }
   ],
   "source": [
    "np.random.randint(1,2)"
   ]
  },
  {
   "cell_type": "code",
   "execution_count": 24,
   "metadata": {},
   "outputs": [
    {
     "data": {
      "text/plain": [
       "array(['noise', 'something'], dtype='<U9')"
      ]
     },
     "execution_count": 24,
     "metadata": {},
     "output_type": "execute_result"
    }
   ],
   "source": [
    "import numpy as np\n",
    "a = ['audio', 'noise', 'something', 'bla_bla']\n",
    "\n",
    "size = np.random.randint(2, high=len(a)+1, size=1, dtype=int)\n",
    "np.random.choice(a, size=size, replace=False, p=None)\n"
   ]
  },
  {
   "cell_type": "code",
   "execution_count": null,
   "metadata": {},
   "outputs": [],
   "source": []
  }
 ],
 "metadata": {
  "interpreter": {
   "hash": "ea409e4ec2a534730e92f0e1f785e26400ecbe993c3c44d661821bee781c0c86"
  },
  "kernelspec": {
   "display_name": "Python 3.6.15 64-bit ('lev_py36': conda)",
   "language": "python",
   "name": "python3"
  },
  "language_info": {
   "codemirror_mode": {
    "name": "ipython",
    "version": 3
   },
   "file_extension": ".py",
   "mimetype": "text/x-python",
   "name": "python",
   "nbconvert_exporter": "python",
   "pygments_lexer": "ipython3",
   "version": "3.6.15"
  },
  "orig_nbformat": 4
 },
 "nbformat": 4,
 "nbformat_minor": 2
}
